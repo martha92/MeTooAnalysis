{
 "cells": [
  {
   "cell_type": "markdown",
   "metadata": {},
   "source": [
    "# Retweet Networks and Community Clusters"
   ]
  },
  {
   "cell_type": "markdown",
   "metadata": {},
   "source": [
    "## Objective"
   ]
  },
  {
   "cell_type": "markdown",
   "metadata": {},
   "source": [
    "## Tools/ Technology Used"
   ]
  },
  {
   "cell_type": "markdown",
   "metadata": {},
   "source": [
    "* **Pandas** create undirected weighted graphs for retweet network\n",
    "* **GraphFrames** Spark library to detect Community Clusters using LPA( Label Propagation Algorithm) and find influencers using PageRank\n",
    "* **Seaborn** Visualize cluster strength through bar chart\n",
    "* **Gephi** Compute community clusters using modularity and find influencers through betweenness centrality and Eigenvector centrality"
   ]
  },
  {
   "cell_type": "markdown",
   "metadata": {},
   "source": [
    "## Import the necessary packages"
   ]
  },
  {
   "cell_type": "code",
   "execution_count": 80,
   "metadata": {},
   "outputs": [],
   "source": [
    "import sys\n",
    "import pandas as pd\n",
    "import numpy as np\n",
    "import re\n",
    "import os\n",
    "\n",
    "# Plotting tools\n",
    "import seaborn as sns\n",
    "import matplotlib.pyplot as plt\n",
    "%matplotlib inline\n",
    "\n",
    "import pyspark\n",
    "from pyspark.sql import *\n",
    "spark = SparkSession.builder.appName('retweet graph').getOrCreate()\n",
    "sc = spark.sparkContext\n",
    "\n",
    "import warnings\n",
    "warnings.filterwarnings('ignore')"
   ]
  },
  {
   "cell_type": "markdown",
   "metadata": {},
   "source": [
    "## Read and Preprocess Data"
   ]
  },
  {
   "cell_type": "markdown",
   "metadata": {},
   "source": [
    "We read the records that were retwitted from Humans.csv, the input file for this analysis, which was generated after discarding the fake accounts('') and cleaning the tweets with standard NLP techniques(''). We grab the users by their screen_names if they have retweeted (given by the boolian value of is_retweet column) and we also take the post that they have retwitted given by the column text_retweet.Then we apply the following preprocessing steps:\n",
    "* *Filter out records if they are NAN*\n",
    "* *Add a new column retweet_username to the dataframe which captures the user who had posted the tweet for the first time*\n",
    "\n"
   ]
  },
  {
   "cell_type": "code",
   "execution_count": 52,
   "metadata": {},
   "outputs": [],
   "source": [
    "# Filter out records if they are NAN\n",
    "def isNaN(num):\n",
    "    return num != num"
   ]
  },
  {
   "cell_type": "code",
   "execution_count": 53,
   "metadata": {},
   "outputs": [
    {
     "data": {
      "text/html": [
       "<div>\n",
       "<style scoped>\n",
       "    .dataframe tbody tr th:only-of-type {\n",
       "        vertical-align: middle;\n",
       "    }\n",
       "\n",
       "    .dataframe tbody tr th {\n",
       "        vertical-align: top;\n",
       "    }\n",
       "\n",
       "    .dataframe thead th {\n",
       "        text-align: right;\n",
       "    }\n",
       "</style>\n",
       "<table border=\"1\" class=\"dataframe\">\n",
       "  <thead>\n",
       "    <tr style=\"text-align: right;\">\n",
       "      <th></th>\n",
       "      <th>id</th>\n",
       "      <th>is_retweet</th>\n",
       "      <th>text_retweet</th>\n",
       "      <th>screen_name</th>\n",
       "    </tr>\n",
       "  </thead>\n",
       "  <tbody>\n",
       "    <tr>\n",
       "      <th>0</th>\n",
       "      <td>40000</td>\n",
       "      <td>True</td>\n",
       "      <td>RT @jdesmondharris: You don't have to write \"i...</td>\n",
       "      <td>SamanthaCorbin</td>\n",
       "    </tr>\n",
       "    <tr>\n",
       "      <th>1</th>\n",
       "      <td>40002</td>\n",
       "      <td>True</td>\n",
       "      <td>RT @jdesmondharris: You don't have to write \"i...</td>\n",
       "      <td>dinosaur_m</td>\n",
       "    </tr>\n",
       "    <tr>\n",
       "      <th>2</th>\n",
       "      <td>40003</td>\n",
       "      <td>True</td>\n",
       "      <td>RT @TheUSASingers: Here it is folks!\\n\\nWe are...</td>\n",
       "      <td>CloeNana</td>\n",
       "    </tr>\n",
       "  </tbody>\n",
       "</table>\n",
       "</div>"
      ],
      "text/plain": [
       "      id  is_retweet                                       text_retweet  \\\n",
       "0  40000        True  RT @jdesmondharris: You don't have to write \"i...   \n",
       "1  40002        True  RT @jdesmondharris: You don't have to write \"i...   \n",
       "2  40003        True  RT @TheUSASingers: Here it is folks!\\n\\nWe are...   \n",
       "\n",
       "      screen_name  \n",
       "0  SamanthaCorbin  \n",
       "1      dinosaur_m  \n",
       "2        CloeNana  "
      ]
     },
     "execution_count": 53,
     "metadata": {},
     "output_type": "execute_result"
    }
   ],
   "source": [
    "# Read input file and get the retweeted records in dataframe retweet_df\n",
    "read_df = pd.read_csv('humans1.csv', sep=';', index_col='id', usecols = ['id', 'screen_name', 'is_retweet', 'text_retweet'])\n",
    "retweet_df = read_df[read_df.apply(lambda x: (x['is_retweet']==True) and (isNaN(x['text_retweet'])==False), axis=1)]\n",
    "retweet_df = retweet_df.reset_index()\n",
    "retweet_df.head(3)"
   ]
  },
  {
   "cell_type": "code",
   "execution_count": 54,
   "metadata": {},
   "outputs": [
    {
     "data": {
      "text/html": [
       "<div>\n",
       "<style scoped>\n",
       "    .dataframe tbody tr th:only-of-type {\n",
       "        vertical-align: middle;\n",
       "    }\n",
       "\n",
       "    .dataframe tbody tr th {\n",
       "        vertical-align: top;\n",
       "    }\n",
       "\n",
       "    .dataframe thead th {\n",
       "        text-align: right;\n",
       "    }\n",
       "</style>\n",
       "<table border=\"1\" class=\"dataframe\">\n",
       "  <thead>\n",
       "    <tr style=\"text-align: right;\">\n",
       "      <th></th>\n",
       "      <th>index</th>\n",
       "      <th>id</th>\n",
       "      <th>is_retweet</th>\n",
       "      <th>text_retweet</th>\n",
       "      <th>screen_name</th>\n",
       "      <th>retweet_username</th>\n",
       "    </tr>\n",
       "  </thead>\n",
       "  <tbody>\n",
       "    <tr>\n",
       "      <th>0</th>\n",
       "      <td>0</td>\n",
       "      <td>40000</td>\n",
       "      <td>True</td>\n",
       "      <td>RT @jdesmondharris: You don't have to write \"i...</td>\n",
       "      <td>SamanthaCorbin</td>\n",
       "      <td>jdesmondharris</td>\n",
       "    </tr>\n",
       "    <tr>\n",
       "      <th>1</th>\n",
       "      <td>1</td>\n",
       "      <td>40002</td>\n",
       "      <td>True</td>\n",
       "      <td>RT @jdesmondharris: You don't have to write \"i...</td>\n",
       "      <td>dinosaur_m</td>\n",
       "      <td>jdesmondharris</td>\n",
       "    </tr>\n",
       "    <tr>\n",
       "      <th>2</th>\n",
       "      <td>2</td>\n",
       "      <td>40003</td>\n",
       "      <td>True</td>\n",
       "      <td>RT @TheUSASingers: Here it is folks!\\n\\nWe are...</td>\n",
       "      <td>CloeNana</td>\n",
       "      <td>TheUSASingers</td>\n",
       "    </tr>\n",
       "  </tbody>\n",
       "</table>\n",
       "</div>"
      ],
      "text/plain": [
       "   index     id  is_retweet  \\\n",
       "0      0  40000        True   \n",
       "1      1  40002        True   \n",
       "2      2  40003        True   \n",
       "\n",
       "                                        text_retweet     screen_name  \\\n",
       "0  RT @jdesmondharris: You don't have to write \"i...  SamanthaCorbin   \n",
       "1  RT @jdesmondharris: You don't have to write \"i...      dinosaur_m   \n",
       "2  RT @TheUSASingers: Here it is folks!\\n\\nWe are...        CloeNana   \n",
       "\n",
       "  retweet_username  \n",
       "0   jdesmondharris  \n",
       "1   jdesmondharris  \n",
       "2    TheUSASingers  "
      ]
     },
     "execution_count": 54,
     "metadata": {},
     "output_type": "execute_result"
    }
   ],
   "source": [
    "# Append the screen_name of the original post that has been retweeted\n",
    "def get_retweet_user(text_retweet):\n",
    "    try:\n",
    "        return re.match(r\"RT @(\\S+):.*\", text_retweet).group(1)\n",
    "    except:\n",
    "        return 'False'\n",
    "    \n",
    "retweet_df['retweet_username'] = retweet_df.apply(lambda x: get_retweet_user(x['text_retweet']), axis=1)\n",
    "retweet_df = retweet_df.reset_index()\n",
    "\n",
    "# Print the final input dataframe\n",
    "retweet_df.head(3)"
   ]
  },
  {
   "cell_type": "markdown",
   "metadata": {},
   "source": [
    "## Create Retweet graphs and store it as text file"
   ]
  },
  {
   "cell_type": "markdown",
   "metadata": {},
   "source": [
    "We construct the weighted undirected graph to form the retweet network by defining the parent-child relationships between the users such that everytime an user (given by field screen_name) retweets another user's post (given by the field 'retweet_username') we draw an edge between them and the number of times they have communicated or retweeted each other becomes the edge weight. In order to reduce clutter in the network we however filter out nodes or users who have communicated less than 5 times. This parameter can be configured as per the analyst's need.  "
   ]
  },
  {
   "cell_type": "code",
   "execution_count": 55,
   "metadata": {},
   "outputs": [],
   "source": [
    "def retweetgraph(data, filename, num = 5):\n",
    "    \n",
    "    #append all users to a list\n",
    "    retweets = []\n",
    "    for line in data:\n",
    "        retweets.append([line[0], line[1], line[2], line[3]])\n",
    "        \n",
    "    # Define nodes\n",
    "    nodes = dict()\n",
    "    for line in retweets:\n",
    "        if line[0] not in nodes:\n",
    "            nodes[line[0]] = 0\n",
    "        nodes[line[0]] += 1\n",
    "        if line[1] not in nodes:\n",
    "            nodes[line[1]] = 0\n",
    "        nodes[line[1]] += 1\n",
    "\n",
    "    # Filter nodes with more than 'num' weighted degree    \n",
    "    for i in list(nodes):\n",
    "        if nodes[i] <= num:\n",
    "            del nodes[i]\n",
    "            \n",
    "    # Define undirected weighted edges without self loop\n",
    "    temp = dict()\n",
    "    for retweet in retweets:\n",
    "        if retweet[0] == retweet[1]:\n",
    "            continue\n",
    "        if retweet[0] in nodes and retweet[1] in nodes:\n",
    "            if (retweet[0], retweet[1], retweet[2], retweet[3]) in temp:\n",
    "                temp[(retweet[0], retweet[1], retweet[2], retweet[3])] += 1\n",
    "            elif (retweet[1], retweet[0], retweet[3], retweet[2]) in temp:\n",
    "                temp[(retweet[1], retweet[0], retweet[3], retweet[2])] += 1\n",
    "            else:\n",
    "                temp[(retweet[0], retweet[1], retweet[2], retweet[3])] = 1\n",
    "    edges = list(temp.items())\n",
    "    \n",
    "    # Write the graph to a file\n",
    "    f = open(filename, 'w')\n",
    "    for edge in edges:\n",
    "        f.write('{}\\t{}\\t{}\\t{}\\t{}\\n'.format(edge[0][0], edge[0][1], edge[0][2], edge[0][3], edge[1]))\n",
    "    f.close()"
   ]
  },
  {
   "cell_type": "code",
   "execution_count": 56,
   "metadata": {},
   "outputs": [],
   "source": [
    "# give unique ids to the nodes\n",
    "def hashnode(x):\n",
    "    return int(hashlib.sha1(str.encode(x)).hexdigest(), 16) % (10 ** 8)\n",
    "retweet_df['source'] = retweet_df.apply(lambda x: hashnode(x['screen_name']), axis=1)\n",
    "retweet_df['target'] = retweet_df.apply(lambda x: hashnode(x['retweet_username']), axis=1)\n",
    "\n",
    "# create the graph and save it as retweetgraph.txt\n",
    "retweetgraph(retweet_df[retweet_df['retweet_username'] != 'False'][['source', 'target', 'screen_name', 'retweet_username']].values.tolist(), 'retweetgraph.txt', 2)"
   ]
  },
  {
   "cell_type": "markdown",
   "metadata": {},
   "source": [
    "## Find communities and their influencers using GraphFrames Pyspark"
   ]
  },
  {
   "cell_type": "markdown",
   "metadata": {},
   "source": [
    "GraphFrames is a package for Apache Spark that provides DataFrame-based graphs. We use Label Propagation Algorithm to cluster nodes to form communities and PageRank algorithm to find the main influencers of these communities. Using Pyspark we have written retweet_graph_lpa.py to implement these functionalities."
   ]
  },
  {
   "cell_type": "markdown",
   "metadata": {},
   "source": [
    "**Label Propagation Algorithm** is a semi-supervised machine learning algorithm well known for finding community structures within complex networks.At the start of the algorithm, a (generally small) subset of the data points have labels (or classifications). These labels are propagated to the unlabeled points throughout the course of the algorithm. LPA has advantages in its running time and amount of a priori information needed about the network structure (no parameter is required to be known beforehand), though it also has a disadvantage that it produces no unique solution, but an aggregate of many solutions."
   ]
  },
  {
   "cell_type": "markdown",
   "metadata": {},
   "source": [
    "**PageRank Algorithm** is used to calculate the centrality measure of nodes in each of the clusters defined by Label Propagation Algorithm. This allows us to get the nodes with high centrality. Intutively having high PageRank implies that the node or user is the main influencer in his community. Though PageRank gives better results for more number of iterations, we have executed it for 5 iterations to reduce execution time."
   ]
  },
  {
   "cell_type": "markdown",
   "metadata": {},
   "source": [
    "#### Note: Put graphframe jar file matching the pyspark version in current directory\n",
    "spark-sumbit --packages graphframe:graphframes:<graphframe version> retweet_graph_lpa.py"
   ]
  },
  {
   "cell_type": "code",
   "execution_count": 63,
   "metadata": {},
   "outputs": [
    {
     "name": "stdout",
     "output_type": "stream",
     "text": [
      "Ivy Default Cache set to: /home/ipsita_proff/.ivy2/cache\n",
      "The jars for the packages stored in: /home/ipsita_proff/.ivy2/jars\n",
      ":: loading settings :: url = jar:file:/home/ipsita_proff/anaconda3/lib/python3.6/site-packages/pyspark/jars/ivy-2.4.0.jar!/org/apache/ivy/core/settings/ivysettings.xml\n",
      "graphframes#graphframes added as a dependency\n",
      ":: resolving dependencies :: org.apache.spark#spark-submit-parent-ed31dbd0-38b6-4774-a63e-547db3297024;1.0\n",
      "\tconfs: [default]\n",
      "\tfound graphframes#graphframes;0.7.0-spark2.4-s_2.11 in spark-packages\n",
      "\tfound org.slf4j#slf4j-api;1.7.16 in central\n",
      ":: resolution report :: resolve 270ms :: artifacts dl 4ms\n",
      "\t:: modules in use:\n",
      "\tgraphframes#graphframes;0.7.0-spark2.4-s_2.11 from spark-packages in [default]\n",
      "\torg.slf4j#slf4j-api;1.7.16 from central in [default]\n",
      "\t---------------------------------------------------------------------\n",
      "\t|                  |            modules            ||   artifacts   |\n",
      "\t|       conf       | number| search|dwnlded|evicted|| number|dwnlded|\n",
      "\t---------------------------------------------------------------------\n",
      "\t|      default     |   2   |   0   |   0   |   0   ||   2   |   0   |\n",
      "\t---------------------------------------------------------------------\n",
      ":: retrieving :: org.apache.spark#spark-submit-parent-ed31dbd0-38b6-4774-a63e-547db3297024\n",
      "\tconfs: [default]\n",
      "\t0 artifacts copied, 2 already retrieved (0kB/6ms)\n",
      "19/04/12 10:41:11 WARN NativeCodeLoader: Unable to load native-hadoop library for your platform... using builtin-java classes where applicable\n",
      "Using Spark's default log4j profile: org/apache/spark/log4j-defaults.properties\n",
      "19/04/12 10:41:13 INFO SparkContext: Running Spark version 2.4.1\n",
      "19/04/12 10:41:13 INFO SparkContext: Submitted application: retweet graph lpa\n",
      "19/04/12 10:41:13 INFO SecurityManager: Changing view acls to: ipsita_proff\n",
      "19/04/12 10:41:13 INFO SecurityManager: Changing modify acls to: ipsita_proff\n",
      "19/04/12 10:41:13 INFO SecurityManager: Changing view acls groups to: \n",
      "19/04/12 10:41:13 INFO SecurityManager: Changing modify acls groups to: \n",
      "19/04/12 10:41:13 INFO SecurityManager: SecurityManager: authentication disabled; ui acls disabled; users  with view permissions: Set(ipsita_proff); groups with view permissions: Set(); users  with modify permissions: Set(ipsita_proff); groups with modify permissions: Set()\n",
      "19/04/12 10:41:13 INFO Utils: Successfully started service 'sparkDriver' on port 39305.\n",
      "19/04/12 10:41:13 INFO SparkEnv: Registering MapOutputTracker\n",
      "19/04/12 10:41:13 INFO SparkEnv: Registering BlockManagerMaster\n",
      "19/04/12 10:41:13 INFO BlockManagerMasterEndpoint: Using org.apache.spark.storage.DefaultTopologyMapper for getting topology information\n",
      "19/04/12 10:41:13 INFO BlockManagerMasterEndpoint: BlockManagerMasterEndpoint up\n",
      "19/04/12 10:41:13 INFO DiskBlockManager: Created local directory at /tmp/blockmgr-3d872444-04cb-4e06-a363-5dcf88ad50f1\n",
      "19/04/12 10:41:13 INFO MemoryStore: MemoryStore started with capacity 366.3 MB\n",
      "19/04/12 10:41:13 INFO SparkEnv: Registering OutputCommitCoordinator\n",
      "19/04/12 10:41:14 WARN Utils: Service 'SparkUI' could not bind on port 4040. Attempting port 4041.\n",
      "19/04/12 10:41:14 WARN Utils: Service 'SparkUI' could not bind on port 4041. Attempting port 4042.\n",
      "19/04/12 10:41:14 INFO Utils: Successfully started service 'SparkUI' on port 4042.\n",
      "19/04/12 10:41:14 INFO SparkUI: Bound SparkUI to 0.0.0.0, and started at http://instance-3.asia-east1-b.c.crucial-guard-222904.internal:4042\n",
      "19/04/12 10:41:14 INFO SparkContext: Added JAR file:///home/ipsita_proff/.ivy2/jars/graphframes_graphframes-0.7.0-spark2.4-s_2.11.jar at spark://instance-3.asia-east1-b.c.crucial-guard-222904.internal:39305/jars/graphframes_graphframes-0.7.0-spark2.4-s_2.11.jar with timestamp 1555065674250\n",
      "19/04/12 10:41:14 INFO SparkContext: Added JAR file:///home/ipsita_proff/.ivy2/jars/org.slf4j_slf4j-api-1.7.16.jar at spark://instance-3.asia-east1-b.c.crucial-guard-222904.internal:39305/jars/org.slf4j_slf4j-api-1.7.16.jar with timestamp 1555065674251\n",
      "19/04/12 10:41:14 INFO SparkContext: Added file file:///home/ipsita_proff/.ivy2/jars/graphframes_graphframes-0.7.0-spark2.4-s_2.11.jar at file:///home/ipsita_proff/.ivy2/jars/graphframes_graphframes-0.7.0-spark2.4-s_2.11.jar with timestamp 1555065674292\n",
      "19/04/12 10:41:14 INFO Utils: Copying /home/ipsita_proff/.ivy2/jars/graphframes_graphframes-0.7.0-spark2.4-s_2.11.jar to /tmp/spark-a87f2db6-104c-4e7c-bba9-3bd1230e64d4/userFiles-a1a7427a-200d-4a03-a620-db541b54c1d0/graphframes_graphframes-0.7.0-spark2.4-s_2.11.jar\n",
      "19/04/12 10:41:14 INFO SparkContext: Added file file:///home/ipsita_proff/.ivy2/jars/org.slf4j_slf4j-api-1.7.16.jar at file:///home/ipsita_proff/.ivy2/jars/org.slf4j_slf4j-api-1.7.16.jar with timestamp 1555065674310\n",
      "19/04/12 10:41:14 INFO Utils: Copying /home/ipsita_proff/.ivy2/jars/org.slf4j_slf4j-api-1.7.16.jar to /tmp/spark-a87f2db6-104c-4e7c-bba9-3bd1230e64d4/userFiles-a1a7427a-200d-4a03-a620-db541b54c1d0/org.slf4j_slf4j-api-1.7.16.jar\n",
      "19/04/12 10:41:14 INFO Executor: Starting executor ID driver on host localhost\n",
      "19/04/12 10:41:14 INFO Utils: Successfully started service 'org.apache.spark.network.netty.NettyBlockTransferService' on port 40981.\n",
      "19/04/12 10:41:14 INFO NettyBlockTransferService: Server created on instance-3.asia-east1-b.c.crucial-guard-222904.internal:40981\n",
      "19/04/12 10:41:14 INFO BlockManager: Using org.apache.spark.storage.RandomBlockReplicationPolicy for block replication policy\n",
      "19/04/12 10:41:14 INFO BlockManagerMaster: Registering BlockManager BlockManagerId(driver, instance-3.asia-east1-b.c.crucial-guard-222904.internal, 40981, None)\n",
      "19/04/12 10:41:14 INFO BlockManagerMasterEndpoint: Registering block manager instance-3.asia-east1-b.c.crucial-guard-222904.internal:40981 with 366.3 MB RAM, BlockManagerId(driver, instance-3.asia-east1-b.c.crucial-guard-222904.internal, 40981, None)\n",
      "19/04/12 10:41:14 INFO BlockManagerMaster: Registered BlockManager BlockManagerId(driver, instance-3.asia-east1-b.c.crucial-guard-222904.internal, 40981, None)\n",
      "19/04/12 10:41:14 INFO BlockManager: Initialized BlockManager: BlockManagerId(driver, instance-3.asia-east1-b.c.crucial-guard-222904.internal, 40981, None)\n",
      "19/04/12 10:41:15 INFO SharedState: Setting hive.metastore.warehouse.dir ('null') to the value of spark.sql.warehouse.dir ('file:/home/ipsita_proff/bd_project/spark-warehouse/').\n",
      "19/04/12 10:41:15 INFO SharedState: Warehouse path is 'file:/home/ipsita_proff/bd_project/spark-warehouse/'.\n",
      "19/04/12 10:41:15 INFO StateStoreCoordinatorRef: Registered StateStoreCoordinator endpoint\n",
      "First 10 community labels\n",
      "+--------+---------------+--------+\n",
      "|      id|           name|   label|\n",
      "+--------+---------------+--------+\n",
      "|  216400| justdeplorible|43298631|\n",
      "| 5519570|   OctoberCoast|40049809|\n",
      "|11424893|Annemiikika1945|88546433|\n",
      "|16627314|       VMeier50|20471779|\n",
      "|17656536|   HotSausage00|19879369|\n",
      "|19912370|       DrSenait|99895617|\n",
      "|22717731|   crushedtiggy|99895617|\n",
      "|58982660|NayantharaTweet| 5584557|\n",
      "|79556603|  SabrinaZrihen|14303605|\n",
      "|84350983|     finneyeric|48520858|\n",
      "+--------+---------------+--------+\n",
      "only showing top 10 rows\n",
      "\n",
      "First 10 pagerank labels\n",
      "+--------+---------------+------------------+\n",
      "|      id|           name|          pagerank|\n",
      "+--------+---------------+------------------+\n",
      "|  216400| justdeplorible|0.8967658218219385|\n",
      "| 5519570|   OctoberCoast|0.8498668168772096|\n",
      "|11424893|Annemiikika1945|0.5684727872088358|\n",
      "|16627314|       VMeier50|0.5684727872088358|\n",
      "|17656536|   HotSausage00|0.5684727872088358|\n",
      "|19912370|       DrSenait|0.5684727872088358|\n",
      "|22717731|   crushedtiggy|0.5684727872088358|\n",
      "|58982660|NayantharaTweet|0.5684727872088358|\n",
      "|79556603|  SabrinaZrihen|0.8498668168772096|\n",
      "|84350983|     finneyeric|0.5684727872088358|\n",
      "+--------+---------------+------------------+\n",
      "only showing top 10 rows\n",
      "\n",
      "19/04/12 10:42:18 WARN TaskSetManager: Stage 309 contains a task of very large size (156 KB). The maximum recommended task size is 100 KB.\n"
     ]
    }
   ],
   "source": [
    "!spark-submit --packages graphframes:graphframes:0.7.0-spark2.4-s_2.11 retweet_graph_lpa.py"
   ]
  },
  {
   "cell_type": "code",
   "execution_count": 66,
   "metadata": {},
   "outputs": [
    {
     "name": "stdout",
     "output_type": "stream",
     "text": [
      "First 10 records\n",
      "id=user, label=community number, pagerank=pagerank\n",
      "+--------+--------+--------------+------------------+\n",
      "|      id|   label|          name|          pagerank|\n",
      "+--------+--------+--------------+------------------+\n",
      "|  848133| 1160370|    AfroKing84|0.7560688069877516|\n",
      "| 1581751|27822384|    sjferg1252|0.5684727872088358|\n",
      "| 2980232|99895617|   ThackDesign| 2.948152239854151|\n",
      "| 6959729|41671098|EducatedNegro_|0.5684727872088358|\n",
      "|11637265|99895617| laurathatsme1|0.7628515864542758|\n",
      "|26372106|12663902|  jessphillips|0.5684727872088358|\n",
      "|41558693|72179470|   smartasafox|3.1928097867020235|\n",
      "|41852169|66326885|     masuruha2|0.5684727872088358|\n",
      "|49119829| 5584557|  ramgopal2812|0.5684727872088358|\n",
      "|49726859|58864876|  TakedownMRAs|0.8498668168772096|\n",
      "+--------+--------+--------------+------------------+\n",
      "only showing top 10 rows\n",
      "\n"
     ]
    }
   ],
   "source": [
    "#Show first few rows of communities and their pageranks\n",
    "sdf = spark.read.parquet('retweet_lpa.parquet')\n",
    "print('First 10 records')\n",
    "print('id=user, label=community number, pagerank=pagerank')\n",
    "sdf.show(10)"
   ]
  },
  {
   "cell_type": "markdown",
   "metadata": {},
   "source": [
    "## EDA with the Community Clusters"
   ]
  },
  {
   "cell_type": "markdown",
   "metadata": {},
   "source": [
    "### Top 10 largest communities"
   ]
  },
  {
   "cell_type": "code",
   "execution_count": 78,
   "metadata": {},
   "outputs": [
    {
     "name": "stdout",
     "output_type": "stream",
     "text": [
      "Top 10 largest communities\n",
      "+--------+-----+\n",
      "|   label|count|\n",
      "+--------+-----+\n",
      "|99895617|  211|\n",
      "|  246824|   66|\n",
      "| 5584557|   50|\n",
      "|  563267|   40|\n",
      "|69025752|   39|\n",
      "| 7131802|   33|\n",
      "|53561793|   26|\n",
      "|65116894|   25|\n",
      "|43973229|   19|\n",
      "|95026042|   18|\n",
      "+--------+-----+\n",
      "\n"
     ]
    }
   ],
   "source": [
    "label_cnt=sdf.groupby('label').count().sort('count', ascending=False).limit(10)\n",
    "print(\"Top 10 largest communities\")\n",
    "label_cnt.show()\n"
   ]
  },
  {
   "cell_type": "markdown",
   "metadata": {},
   "source": [
    "### Main Influencers in these communities"
   ]
  },
  {
   "cell_type": "code",
   "execution_count": 85,
   "metadata": {},
   "outputs": [
    {
     "name": "stdout",
     "output_type": "stream",
     "text": [
      "Main Influencers of top 10 communities\n",
      "+--------+------------------+-----+\n",
      "|   label|     max(pagerank)|count|\n",
      "+--------+------------------+-----+\n",
      "| 5584557|1.5857825529674237|   50|\n",
      "|99895617|18.272602756352352|  211|\n",
      "|  246824|1.3309721005063475|   66|\n",
      "|  563267|0.5684727872088358|   40|\n",
      "|69025752|1.4098409359172734|   39|\n",
      "|43973229|0.5684727872088358|   19|\n",
      "|53561793|0.5684727872088358|   26|\n",
      "|95026042|0.7560688069877516|   18|\n",
      "|65116894|1.1312608465455833|   25|\n",
      "| 7131802|12.542463375034618|   33|\n",
      "+--------+------------------+-----+\n",
      "\n"
     ]
    }
   ],
   "source": [
    "df_maxrange = sdf.groupby('label').max('pagerank')\n",
    "df_influencers = df_maxrange.join(label_cnt, ['label'])\n",
    "print('Main Influencers of top 10 communities')\n",
    "df_influencers.show()\n"
   ]
  },
  {
   "cell_type": "code",
   "execution_count": 93,
   "metadata": {},
   "outputs": [
    {
     "data": {
      "image/png": "[encoded data removed]",
      "text/plain": [
       "<Figure size 720x360 with 1 Axes>"
      ]
     },
     "metadata": {},
     "output_type": "display_data"
    }
   ],
   "source": [
    "temp = df_influencers.collect()\n",
    "columns=['label','influencer', 'count']\n",
    "df = pd.DataFrame(temp, columns=columns)\n",
    "df\n",
    "\n",
    "# #Plot the topics\n",
    "sns.set_style(\"whitegrid\", {'axes.grid' : False})\n",
    "plt.figure(figsize=(10,5))\n",
    "ax = sns.barplot(data=df, x= \"label\", y = \"count\")\n",
    "ax.set(xlabel = 'communities')\n",
    "sns.set_context(\"poster\")\n",
    "plt.show()"
   ]
  },
  {
   "cell_type": "markdown",
   "metadata": {},
   "source": [
    "## Visualize communities and their influencers by Gephi"
   ]
  },
  {
   "cell_type": "code",
   "execution_count": null,
   "metadata": {},
   "outputs": [],
   "source": []
  }
 ],
 "metadata": {
  "kernelspec": {
   "display_name": "Python 3",
   "language": "python",
   "name": "python3"
  },
  "language_info": {
   "codemirror_mode": {
    "name": "ipython",
    "version": 3
   },
   "file_extension": ".py",
   "mimetype": "text/x-python",
   "name": "python",
   "nbconvert_exporter": "python",
   "pygments_lexer": "ipython3",
   "version": "3.6.8"
  }
 },
 "nbformat": 4,
 "nbformat_minor": 2
}
