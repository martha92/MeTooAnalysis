{
 "cells": [
  {
   "cell_type": "markdown",
   "metadata": {},
   "source": [
    "# Objective"
   ]
  },
  {
   "cell_type": "markdown",
   "metadata": {},
   "source": []
  },
  {
   "cell_type": "markdown",
   "metadata": {},
   "source": [
    "# Topic Modelling and Community Cluster Detection"
   ]
  },
  {
   "cell_type": "markdown",
   "metadata": {},
   "source": [
    "Topic modelling takes a single text or corpus and looks for patterns in the use of words, it is an attempt to inject semantic meaning to vocabulary. It assumes that any piece of text is composed by selecting words from possible baskets of words where each basket corresponds to a topic. The process iterates multiple times till it has the most likely distribution of words into baskets which are named as topics.The challenge, however, is how to extract good quality of topics that are clear, segregated and meaningful. We have tried to implement 2 variants of Latent Dirichlet Allocation(LDA) as it is a popular algorithm for topic modeling for small documents like tweets.\n"
   ]
  },
  {
   "cell_type": "markdown",
   "metadata": {},
   "source": [
    "## Import necessary modules"
   ]
  },
  {
   "cell_type": "code",
   "execution_count": 1,
   "metadata": {},
   "outputs": [],
   "source": [
    "import pandas as pd\n",
    "import functools\n",
    "import re\n",
    "\n",
    "from gensim import corpora, models\n",
    "from gensim.utils import simple_preprocess\n",
    "from gensim.models import CoherenceModel\n",
    "from nltk.util import ngrams\n",
    "from nltk import FreqDist\n",
    "from textblob import TextBlob\n",
    "\n",
    "import warnings\n",
    "warnings.filterwarnings('ignore')\n",
    "\n",
    "# Plotting tools\n",
    "import seaborn as sns\n",
    "import pyLDAvis\n",
    "import pyLDAvis.gensim  # don't skip this\n",
    "import matplotlib.pyplot as plt\n",
    "%matplotlib inline\n",
    "\n",
    "pd.set_option('display.max_colwidth', -1)\n"
   ]
  },
  {
   "cell_type": "markdown",
   "metadata": {},
   "source": [
    "## Read and Preprocess data"
   ]
  },
  {
   "cell_type": "markdown",
   "metadata": {},
   "source": [
    "We use Humans.csv as the input file for this analysis which was generated after discarding the fake accounts('') and cleaning the tweets with standard NLP techniques(''). Thus this file comprises of cleaned tweets from accounts that are not fake. We read the required columns from this file as a pandas dataframe and apply the following preprocessing steps:\n",
    "* *Drop any column that has missing values*\n",
    "* *Filter out the retweets since they are textually same as the original tweets.*\n",
    "* *Filter out records if they are NAN*\n",
    "* *Merge records by users to understand..........*\n",
    "* *Remove # from hashtags and convert to lower case*\n",
    "* *Remove punctuations and tokennize the tweets*"
   ]
  },
  {
   "cell_type": "code",
   "execution_count": 2,
   "metadata": {},
   "outputs": [],
   "source": [
    "# check NAN\n",
    "def isNaN(num):\n",
    "    return num != num"
   ]
  },
  {
   "cell_type": "code",
   "execution_count": 3,
   "metadata": {},
   "outputs": [
    {
     "data": {
      "text/html": [
       "<div>\n",
       "<style scoped>\n",
       "    .dataframe tbody tr th:only-of-type {\n",
       "        vertical-align: middle;\n",
       "    }\n",
       "\n",
       "    .dataframe tbody tr th {\n",
       "        vertical-align: top;\n",
       "    }\n",
       "\n",
       "    .dataframe thead th {\n",
       "        text-align: right;\n",
       "    }\n",
       "</style>\n",
       "<table border=\"1\" class=\"dataframe\">\n",
       "  <thead>\n",
       "    <tr style=\"text-align: right;\">\n",
       "      <th></th>\n",
       "      <th>index</th>\n",
       "      <th>screen_name</th>\n",
       "      <th>lemma_filter</th>\n",
       "      <th>hashtags_list</th>\n",
       "    </tr>\n",
       "  </thead>\n",
       "  <tbody>\n",
       "    <tr>\n",
       "      <th>0</th>\n",
       "      <td>0</td>\n",
       "      <td>0.bts.officials.0</td>\n",
       "      <td>—————————————————————————— wish lucky 🍀 —————————————————————————— • • • • 🥀🍀🥀 • • • • • • 🥀🍀🥀</td>\n",
       "      <td>[teahung, bangtanboys, cute, girl, lucky, inlove, metoo, bts, love, korea, sweet]</td>\n",
       "    </tr>\n",
       "    <tr>\n",
       "      <th>1</th>\n",
       "      <td>1</td>\n",
       "      <td>0.gin.ger.0</td>\n",
       "      <td>🌻 •love ! -so give u right attack purposefully sag pant well , right ?</td>\n",
       "      <td>[nomeansno, thisisnotconsent, metoo, consentissexy, nomeansnoworldwide]</td>\n",
       "    </tr>\n",
       "  </tbody>\n",
       "</table>\n",
       "</div>"
      ],
      "text/plain": [
       "   index        screen_name  \\\n",
       "0  0      0.bts.officials.0   \n",
       "1  1      0.gin.ger.0         \n",
       "\n",
       "                                                                                     lemma_filter  \\\n",
       "0  —————————————————————————— wish lucky 🍀 —————————————————————————— • • • • 🥀🍀🥀 • • • • • • 🥀🍀🥀   \n",
       "1  🌻 •love ! -so give u right attack purposefully sag pant well , right ?                           \n",
       "\n",
       "                                                                       hashtags_list  \n",
       "0  [teahung, bangtanboys, cute, girl, lucky, inlove, metoo, bts, love, korea, sweet]  \n",
       "1  [nomeansno, thisisnotconsent, metoo, consentissexy, nomeansnoworldwide]            "
      ]
     },
     "execution_count": 3,
     "metadata": {},
     "output_type": "execute_result"
    }
   ],
   "source": [
    "# Read data\n",
    "read_df = pd.read_csv(\"humans.csv\", sep = ';', index_col=None, usecols = ['screen_name', 'hashtags', 'lemma_filter','retweets_count'])\n",
    "\n",
    "# Preprocess Data\n",
    "df = read_df.reset_index().dropna()\n",
    "df = df[df['retweets_count'] == 0]\n",
    "df = df[df.apply(lambda x: (isNaN(x['lemma_filter'])==False) and (isNaN(x['screen_name'])==False), axis=1)]\n",
    "\n",
    "# Merge tweets and hashtags by user and clean hashtags\n",
    "temp0 = df.groupby('screen_name').size().reset_index(name='counts')\n",
    "temp1 = df.groupby('screen_name')['lemma_filter'].apply(' '.join).reset_index()\n",
    "temp2 = df.groupby('screen_name')['hashtags'].apply(','.join).reset_index()\n",
    "data_frames = [temp0,temp1,temp2]\n",
    "tweets = functools.reduce(lambda  left,right: pd.merge(left,right,on=['screen_name'], how='inner'), data_frames)\n",
    "tweets['hashtags_list'] = tweets.apply(lambda x: [i for i in set(re.findall(r\"[\\w']+\", x['hashtags'].lower())) if len(i) > 1], axis=1)\n",
    "tweets = tweets[['screen_name', 'lemma_filter', 'hashtags_list']].reset_index()\n",
    "tweets['index'] = tweets.index\n",
    "\n",
    "#print the first two cleaned records\n",
    "tweets.head(2)\n"
   ]
  },
  {
   "cell_type": "code",
   "execution_count": 7,
   "metadata": {},
   "outputs": [],
   "source": [
    "# Remove punctuations and tokennize the tweets\n",
    "def token_words(sentence):\n",
    "    return [i for i in (simple_preprocess(str(sentence), deacc=True))]\n",
    "\n",
    "tweets['processed_lemma_filter'] = tweets.apply(lambda x: token_words(x['lemma_filter']), axis=1)\n",
    "data = tweets['processed_lemma_filter'].values"
   ]
  },
  {
   "cell_type": "markdown",
   "metadata": {},
   "source": [
    "## Check the most frequent words being used"
   ]
  },
  {
   "cell_type": "code",
   "execution_count": 5,
   "metadata": {},
   "outputs": [
    {
     "data": {
      "image/png": "[encoded data removed]",
      "text/plain": [
       "<Figure size 1440x360 with 1 Axes>"
      ]
     },
     "metadata": {
      "needs_background": "light"
     },
     "output_type": "display_data"
    }
   ],
   "source": [
    "# function to plot most frequent terms\n",
    "def freq_words(x, terms = 30):\n",
    "    all_words = ' '.join([text for text in x])\n",
    "    all_words = all_words.split()\n",
    "\n",
    "    fdist = FreqDist(all_words)\n",
    "    words_df = pd.DataFrame({'word':list(fdist.keys()), 'count':list(fdist.values())})\n",
    "\n",
    "  # selecting top 20 most frequent words\n",
    "    d = words_df.nlargest(columns=\"count\", n = terms) \n",
    "    plt.figure(figsize=(20,5))\n",
    "    ax = sns.barplot(data=d, x= \"word\", y = \"count\")\n",
    "    ax.set(ylabel = 'Count')\n",
    "    plt.show()\n",
    "\n",
    "vis_data = []\n",
    "for i in range(len(data)):\n",
    "    vis_data.append(' '.join(data[i]))\n",
    "\n",
    "freq_words(vis_data)"
   ]
  },
  {
   "cell_type": "markdown",
   "metadata": {},
   "source": [
    "## Prepare the corpus for LDA and apply Frequency Filter"
   ]
  },
  {
   "cell_type": "markdown",
   "metadata": {},
   "source": [
    "The two main inputs the topic model are the dictionary(id2word) and the corpus. We filter out very frequent or very rare words as we find in the above diagram that the choise of words are not great."
   ]
  },
  {
   "cell_type": "code",
   "execution_count": 8,
   "metadata": {},
   "outputs": [
    {
     "name": "stdout",
     "output_type": "stream",
     "text": [
      "the corpus for the 20th tweet\n",
      "[(0, 1), (1, 1)]\n",
      "the words of the 20th tweet with the freq\n"
     ]
    }
   ],
   "source": [
    "#Build a Dictionary(associate word to numeric id)\n",
    "id2word = corpora.Dictionary(data)\n",
    "\n",
    "# ignore words that appear in less than 20 documents or more than 10% documents\n",
    "id2word.filter_extremes(no_below=20, no_above=0.1)\n",
    "# print(id2word)\n",
    "\n",
    "#Preparing Document-Term Matrix(word_id to word_freq)\n",
    "corpus = [id2word.doc2bow(text) for text in data]\n",
    "print(\"the corpus for the 20th tweet\")\n",
    "print(corpus[0])\n",
    "print(\"the words of the 20th tweet with the freq\")\n",
    "# [(id2word[i[0]],i[1]) for i in corpus[0]] ##print([[(id2word[id], freq) for id, freq in cp] for cp in corpus[:2]])\n"
   ]
  },
  {
   "cell_type": "markdown",
   "metadata": {},
   "source": [
    "## Build Topic Model with optimal number of topics"
   ]
  },
  {
   "cell_type": "markdown",
   "metadata": {},
   "source": [
    "We build the LDA model with gensim library. We train two variants of LDA, the basic version which is probabilistic topic modelling and the MalletLDA which is implementation of Gibbs sampling In order to get the optimal number of topics we build many LDA models with different number of topics and choose the one with the highest accuracy. Accuracy is measured by coherence score. Higher the score, better the model."
   ]
  },
  {
   "cell_type": "code",
   "execution_count": 12,
   "metadata": {},
   "outputs": [
    {
     "name": "stdout",
     "output_type": "stream",
     "text": [
      "coherence score of LDA model\n",
      "[0.5520639938136651, 0.507294872215525, 0.4740843644283462]\n"
     ]
    }
   ],
   "source": [
    "# function to get optimal number of topics LDA\n",
    "def compute_coherence_values(dictionary, corpus, texts, limit, start=2, step=3):\n",
    "    model_list = []\n",
    "    coherence_values = []\n",
    "    \n",
    "    for num_topics in range(start, limit, step):\n",
    "        lda_model = models.ldamodel.LdaModel(corpus=corpus, id2word=id2word, num_topics=num_topics, random_state=100, update_every=1, chunksize=500, passes=10,\n",
    "                                            alpha='auto', per_word_topics=True)\n",
    "        model_list.append(lda_model)\n",
    "        coherencemodel = CoherenceModel(model=lda_model, texts=texts, dictionary=dictionary, coherence='c_v')\n",
    "        coherence_values.append(coherencemodel.get_coherence())\n",
    "    return model_list, coherence_values\n",
    "\n",
    "LDAmodel_list, coherence_values_lda = compute_coherence_values(dictionary=id2word, corpus=corpus, texts=data, start=2, limit=20, step=6)\n",
    "\n",
    "print(\"coherence score of LDA model\")\n",
    "print(coherence_values_lda)"
   ]
  },
  {
   "cell_type": "markdown",
   "metadata": {},
   "source": [
    "#### Mallet model often gives a better result but takes a very long time to train. Please download the the zip file, unzip it and give proper path to execute this piece of code"
   ]
  },
  {
   "cell_type": "code",
   "execution_count": 14,
   "metadata": {},
   "outputs": [
    {
     "name": "stdout",
     "output_type": "stream",
     "text": [
      "coherence score of MalletLDA model\n",
      "[0.34909725335163844, 0.635553800712542, 0.6283341502461341]\n"
     ]
    }
   ],
   "source": [
    "# Mallet’s version, however, often gives a better quality of topics.\n",
    "# Download File: http://mallet.cs.umass.edu/dist/mallet-2.0.8.zip \n",
    "import os\n",
    "from gensim.models.wrappers import LdaMallet\n",
    "os.environ.update({'MALLET_HOME':r'C:/mallet_new/mallet-2.0.8/'}) # change the path as required\n",
    "mallet_path = 'C:\\\\mallet_new\\\\mallet-2.0.8\\\\bin\\\\mallet' # change the path as required\n",
    "\n",
    "def compute_coherence_values(dictionary, corpus, texts, limit, start=2, step=3):\n",
    "    Mallet_coherence_values = []\n",
    "    Malletmodel_list = []\n",
    "    \n",
    "    for num_topics in range(start, limit, step):\n",
    "        Malletmodel = LdaMallet(mallet_path, corpus=corpus, num_topics=num_topics, id2word=id2word)\n",
    "        Malletmodel_list.append(Malletmodel)\n",
    "        coherencemodel = CoherenceModel(model=Malletmodel, texts=texts, dictionary=dictionary, coherence='c_v')\n",
    "        Mallet_coherence_values.append(coherencemodel.get_coherence())\n",
    "        \n",
    "    return Malletmodel_list, Mallet_coherence_values\n",
    "\n",
    "Malletmodel_list, Mallet_coherence_values = compute_coherence_values(dictionary=id2word, corpus=corpus, texts=data, start=2, limit=20, step=6)\n",
    "\n",
    "print(\"coherence score of MalletLDA model\")\n",
    "print(Mallet_coherence_values)"
   ]
  },
  {
   "cell_type": "code",
   "execution_count": 18,
   "metadata": {},
   "outputs": [
    {
     "name": "stdout",
     "output_type": "stream",
     "text": [
      "0\n",
      "LdaModel(num_terms=19125, num_topics=2, decay=0.5, chunksize=500)\n",
      "Topic #0: 0.005*\"day\" + 0.004*\"love\" + 0.004*\"need\" + 0.004*\"life\" + 0.004*\"come\" + 0.004*\"men\" + 0.004*\"work\" + 0.004*\"see\" + 0.004*\"way\" + 0.004*\"want\"\n",
      "Topic #1: 0.039*\"de\" + 0.024*\"la\" + 0.018*\"que\" + 0.016*\"en\" + 0.009*\"el\" + 0.008*\"le\" + 0.008*\"un\" + 0.006*\"se\" + 0.006*\"et\" + 0.005*\"och\"\n"
     ]
    }
   ],
   "source": [
    "max_coherence=0\n",
    "index=0\n",
    "coherence = coherence_values_lda #Replace it with Mallet_coherence_values for Mallet model\n",
    "model = LDAmodel_list #Replace it with Malletmodel_list for Mallet model\n",
    "\n",
    "for i in coherence:\n",
    "    if i > max_coherence:\n",
    "        max_coherence = i\n",
    "        index = coherence.index(i)\n",
    "optimal_model = model[index]\n",
    "print(index)\n",
    "print(optimal_model)\n",
    "\n",
    "for idx in range(2):\n",
    "    # Print the first 10 most representative topics\n",
    "    print(\"Topic #%s:\" % idx, optimal_model.print_topic(idx, 10))"
   ]
  },
  {
   "cell_type": "code",
   "execution_count": 15,
   "metadata": {},
   "outputs": [
    {
     "data": {
      "image/png": "[encoded data removed]",
      "text/plain": [
       "<Figure size 432x288 with 1 Axes>"
      ]
     },
     "metadata": {
      "needs_background": "light"
     },
     "output_type": "display_data"
    },
    {
     "name": "stdout",
     "output_type": "stream",
     "text": [
      "Num Topics Mallet = 2  has Coherence Value of 0.3491\n",
      "Num Topics Mallet = 8  has Coherence Value of 0.6356\n",
      "Num Topics Mallet = 14  has Coherence Value of 0.6283\n",
      "Num Topics LDA = 2  has Coherence Value of 0.5521\n",
      "Num Topics LDA = 8  has Coherence Value of 0.5073\n",
      "Num Topics LDA = 14  has Coherence Value of 0.4741\n"
     ]
    }
   ],
   "source": [
    "# Show graph\n",
    "limit=20; start=2; step=6;\n",
    "x = range(start, limit, step)\n",
    "plt.plot(x, Mallet_coherence_values)\n",
    "plt.plot(x, coherence_values_lda)\n",
    "plt.xlabel(\"Num Topics\")\n",
    "plt.ylabel(\"Coherence score\")\n",
    "plt.legend((\"coherence_values\"), loc='best')\n",
    "plt.show()\n",
    "\n",
    "#Print the coherence scores\n",
    "for m, cv in zip(x, Mallet_coherence_values):\n",
    "    print(\"Num Topics Mallet =\", m, \" has Coherence Value of\", round(cv, 4))\n",
    "for m, cv in zip(x, coherence_values_lda):\n",
    "    print(\"Num Topics LDA =\", m, \" has Coherence Value of\", round(cv, 4))"
   ]
  },
  {
   "cell_type": "markdown",
   "metadata": {},
   "source": [
    "## EDA on Topic Modelling"
   ]
  },
  {
   "cell_type": "markdown",
   "metadata": {},
   "source": [
    "Here we find the dominant topic in each sentence. One of the practical application of topic modeling is to determine what topic a given document is about.To find that, we find the topic number that has the highest percentage contribution in that document."
   ]
  },
  {
   "cell_type": "code",
   "execution_count": null,
   "metadata": {},
   "outputs": [],
   "source": [
    "\n",
    "topics = lda_model.get_document_topics(corpus, per_word_topics=True)\n",
    "all_topics = [(doc_topics, word_topics, word_phis) for doc_topics, word_topics, word_phis in topics]\n",
    "#print(all_topics)\n",
    "\n",
    "Topic_df= pd.DataFrame()\n",
    "for doc_topics, word_topics, word_phis in all_topics:\n",
    "    #print(\"new doc\")\n",
    "    new_doc=sorted(doc_topics,key=lambda x: x[1], reverse=True)\n",
    "    for j,(topic_num, prop_topic) in enumerate(new_doc):\n",
    "        if j==0:\n",
    "            topic_word = lda_model.show_topic(topic_num)\n",
    "            topic_keywords = \", \".join([word for word, prop in topic_word])\n",
    "            \n",
    "            Topic_df = Topic_df.append(pd.Series([int(topic_num), round(prop_topic,4),topic_keywords]), ignore_index=True)\n",
    "        else:\n",
    "            break\n",
    "Topic_df.columns = ['Dominant_Topic', 'Perc_Contribution','topic_keywords']\n",
    "# Add original text to the end of the output\n",
    "contents = pd.Series(tweets['screen_name'])\n",
    "Topic_df = pd.concat([Topic_df, contents], axis=1)\n",
    "Topic_df"
   ]
  },
  {
   "cell_type": "markdown",
   "metadata": {},
   "source": [
    "## Bar plot of number of documents per topic."
   ]
  },
  {
   "cell_type": "code",
   "execution_count": null,
   "metadata": {},
   "outputs": [],
   "source": [
    "#print(Topic_df['Dominant_Topic'])\n",
    "# Number of Documents for Each Topic\n",
    "temp=Topic_df.groupby('Dominant_Topic').agg('count').reset_index()\n",
    "topic_counts=temp[['Dominant_Topic','screen_name']]\n",
    "\n",
    "# Percentage of Documents for Each Topic\n",
    "topic_counts['topic_contribution'] = round(topic_counts['screen_name']/topic_counts['screen_name'].sum(), 4)\n",
    "topic_counts.columns=['Dominant_Topic', 'Num_Documents', 'Perc_Documents']\n",
    "\n",
    "#Plot the topics\n",
    "sns.set_style(\"whitegrid\", {'axes.grid' : False})\n",
    "#plt.figure(figsize=(15,5))\n",
    "ax = sns.barplot(data=topic_counts, x= \"Dominant_Topic\", y = \"Num_Documents\",  palette=(\"Blues_d\"))\n",
    "ax.set(xlabel = 'Topics')\n",
    "sns.set_context(\"poster\")\n",
    "labels = [str(round(i,2))+'%' for i in topic_counts['Perc_Documents']]\n",
    "rects = ax.patches\n",
    "\n",
    "for rect, label in zip(rects, labels):\n",
    "    height = rect.get_height()\n",
    "    ax.text(rect.get_x() + rect.get_width() / 2, height + 5, label,\n",
    "            fontsize=15, color='blue', ha='center', va='bottom')\n",
    "\n",
    "plt.show()"
   ]
  },
  {
   "cell_type": "markdown",
   "metadata": {},
   "source": [
    "## Visualize the word distribution"
   ]
  },
  {
   "cell_type": "code",
   "execution_count": null,
   "metadata": {},
   "outputs": [],
   "source": [
    "# Visualize the topics\n",
    "pyLDAvis.enable_notebook()\n",
    "vis = pyLDAvis.gensim.prepare(LDAmodel_list[1], corpus, id2word)\n",
    "vis"
   ]
  },
  {
   "cell_type": "markdown",
   "metadata": {},
   "source": [
    "## Similarity between the documents"
   ]
  },
  {
   "cell_type": "code",
   "execution_count": null,
   "metadata": {},
   "outputs": [],
   "source": [
    "import numpy as np\n",
    "topics = lda_model.get_document_topics(corpus, per_word_topics=True)\n",
    "doc_topic_matrix = np.zeros((len(data), NUM_TOPICS))\n",
    "\n",
    "for idx, i in enumerate(topics):\n",
    "    for j in i[0]:\n",
    "        doc_topic_matrix[idx, j[0]] = j[1]\n",
    "\n",
    "cos_sim = doc_topic_matrix.dot(doc_topic_matrix.T)\n",
    "cos_sim = cos_sim - np.eye(len(data))\n",
    "I,J = np.where(cos_sim > 0.7)\n",
    "col = np.column_stack((I,J,cos_sim[I,J]))\n",
    "with open('similaritygraph.txt', 'w') as f:\n",
    "    for row in col:\n",
    "        if row[0] < row[1]:\n",
    "            f.write('{}\\t{}\\t{}\\n'.format(int(row[0]),int(row[1]),row[2]))"
   ]
  },
  {
   "cell_type": "code",
   "execution_count": null,
   "metadata": {},
   "outputs": [],
   "source": [
    "#!pip install infomap\n",
    "!infomap similaritygraph.txt sim_output/ -N 5 --clu"
   ]
  },
  {
   "cell_type": "code",
   "execution_count": null,
   "metadata": {},
   "outputs": [],
   "source": [
    "import pandas as pd\n",
    "nodes = pd.read_csv('sim_output/similaritygraph.clu', sep=' ', header=None, skiprows=2, names=['id', 'label', 'score'])\n",
    "edges = pd.read_csv('similaritygraph.txt', sep='\\t', header=None, names=['source', 'target', 'weight'])\n",
    "id_mapping = pd.read_csv('similarity_id_mapping.csv', sep=';')"
   ]
  },
  {
   "cell_type": "code",
   "execution_count": null,
   "metadata": {},
   "outputs": [],
   "source": [
    "from textblob import TextBlob\n",
    "\n",
    "ht_df = pd.read_csv('ouput.results', sep='\\t', index_col='ID')[['Node', 'Label']]\n",
    "ht_df['Label'] = ht_df.apply(lambda x: 1.0 if x['Label'] == 'pos' else (0.0 if x['Label'] == 'neg' else 0.5), axis=1)\n",
    "\n",
    "ht_dic = ht_df.set_index('Node').to_dict()['Label']\n",
    "\n",
    "#Classifier\n",
    "def get_hashtag_polarity(tweet, hashtag_list):\n",
    "    polarity = 0.0\n",
    "    count = 0.0\n",
    "    tweet_polarity = TextBlob(tweet).sentiment[0]\n",
    "    for ht in hashtag_list:\n",
    "        if ht in ht_dic:\n",
    "            polarity += ht_dic[ht]\n",
    "            count += 1.0\n",
    "    if count > 0:\n",
    "        polarity = polarity/count\n",
    "        result_polarity = (tweet_polarity+polarity)/2.0\n",
    "    else:\n",
    "        result_polarity = tweet_polarity\n",
    "    return [polarity, result_polarity, 'pos' if result_polarity > 0.6 else ('neg' if result_polarity < 0.4 else 'neutral')]\n",
    "     "
   ]
  },
  {
   "cell_type": "code",
   "execution_count": null,
   "metadata": {},
   "outputs": [],
   "source": [
    "id_mapping['sentiment'] = id_mapping.apply(lambda x: get_hashtag_polarity(x['lemma_filter'], x['hashtags_list']), axis=1)\n",
    "nodesdf = pd.merge(nodes, id_mapping[['index', 'sentiment']], left_on=['id'], right_on=['index'], how='inner')\n",
    "nodesdf['sentiment'] = nodesdf.apply(lambda x: x['sentiment'][2], axis=1)\n",
    "nodesdf.drop('index', axis=1).to_csv('similarity_graph_nodes.csv', sep=',', header=True, index=None)\n",
    "edges.to_csv('similarity_graph_edges.csv', sep=',', header=True, index=None)\n",
    "nodesdf.head(5)\n",
    "edges.head(5)\n",
    "id_mapping"
   ]
  }
 ],
 "metadata": {
  "kernelspec": {
   "display_name": "Python 3",
   "language": "python",
   "name": "python3"
  },
  "language_info": {
   "codemirror_mode": {
    "name": "ipython",
    "version": 3
   },
   "file_extension": ".py",
   "mimetype": "text/x-python",
   "name": "python",
   "nbconvert_exporter": "python",
   "pygments_lexer": "ipython3",
   "version": "3.5.0b4"
  }
 },
 "nbformat": 4,
 "nbformat_minor": 2
}
