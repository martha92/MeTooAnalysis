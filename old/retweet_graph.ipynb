{
 "cells": [
  {
   "cell_type": "markdown",
   "metadata": {},
   "source": [
    "# Retweet Networks and Community Clusters"
   ]
  },
  {
   "cell_type": "markdown",
   "metadata": {},
   "source": [
    "## Objective"
   ]
  },
  {
   "cell_type": "markdown",
   "metadata": {},
   "source": [
    "## Tools/ Technology Used"
   ]
  },
  {
   "cell_type": "markdown",
   "metadata": {},
   "source": [
    "* **Pandas** create undirected weighted graphs for retweet network\n",
    "* **GraphFrames** Spark library to detect Community Clusters using LPA( Label Propagation Algorithm) and find influencers using PageRank\n",
    "* **Seaborn** Visualize cluster strength through bar chart\n",
    "* **Gephi** Compute community clusters using modularity and find influencers through betweenness centrality and Eigenvector centrality"
   ]
  },
  {
   "cell_type": "markdown",
   "metadata": {},
   "source": [
    "## Import the necessary packages"
   ]
  },
  {
   "cell_type": "code",
   "execution_count": 11,
   "metadata": {},
   "outputs": [],
   "source": [
    "import sys\n",
    "import pandas as pd\n",
    "import numpy as np\n",
    "import re\n",
    "import os\n",
    "import pyspark\n",
    "from pyspark.sql import *\n",
    "spark = SparkSession.builder.appName('retweet graph').getOrCreate()\n",
    "sc = spark.sparkContext\n",
    "\n",
    "import warnings\n",
    "warnings.filterwarnings('ignore')"
   ]
  },
  {
   "cell_type": "markdown",
   "metadata": {},
   "source": [
    "## Read and Preprocess Data"
   ]
  },
  {
   "cell_type": "markdown",
   "metadata": {},
   "source": [
    "We read the records that were retwitted from Humans.csv, the input file for this analysis, which was generated after discarding the fake accounts('') and cleaning the tweets with standard NLP techniques(''). We grab the users by their screen_names if they have retweeted (given by the boolian value of is_retweet column) and we also take the post that they have retwitted given by the column text_retweet.Then we apply the following preprocessing steps:\n",
    "* *Filter out records if they are NAN*\n",
    "* *Add a new column retweet_username to the dataframe which captures the user who had posted the tweet for the first time*\n",
    "\n"
   ]
  },
  {
   "cell_type": "code",
   "execution_count": null,
   "metadata": {},
   "outputs": [],
   "source": [
    "# Filter out records if they are NAN\n",
    "def isNaN(num):\n",
    "    return num != num"
   ]
  },
  {
   "cell_type": "code",
   "execution_count": 33,
   "metadata": {},
   "outputs": [
    {
     "data": {
      "text/html": [
       "<div>\n",
       "<style scoped>\n",
       "    .dataframe tbody tr th:only-of-type {\n",
       "        vertical-align: middle;\n",
       "    }\n",
       "\n",
       "    .dataframe tbody tr th {\n",
       "        vertical-align: top;\n",
       "    }\n",
       "\n",
       "    .dataframe thead th {\n",
       "        text-align: right;\n",
       "    }\n",
       "</style>\n",
       "<table border=\"1\" class=\"dataframe\">\n",
       "  <thead>\n",
       "    <tr style=\"text-align: right;\">\n",
       "      <th></th>\n",
       "      <th>id</th>\n",
       "      <th>is_retweet</th>\n",
       "      <th>text_retweet</th>\n",
       "      <th>screen_name</th>\n",
       "    </tr>\n",
       "  </thead>\n",
       "  <tbody>\n",
       "    <tr>\n",
       "      <th>0</th>\n",
       "      <td>40000</td>\n",
       "      <td>True</td>\n",
       "      <td>RT @jdesmondharris: You don't have to write \"i...</td>\n",
       "      <td>SamanthaCorbin</td>\n",
       "    </tr>\n",
       "    <tr>\n",
       "      <th>1</th>\n",
       "      <td>40002</td>\n",
       "      <td>True</td>\n",
       "      <td>RT @jdesmondharris: You don't have to write \"i...</td>\n",
       "      <td>dinosaur_m</td>\n",
       "    </tr>\n",
       "    <tr>\n",
       "      <th>2</th>\n",
       "      <td>40003</td>\n",
       "      <td>True</td>\n",
       "      <td>RT @TheUSASingers: Here it is folks!\\n\\nWe are...</td>\n",
       "      <td>CloeNana</td>\n",
       "    </tr>\n",
       "  </tbody>\n",
       "</table>\n",
       "</div>"
      ],
      "text/plain": [
       "      id  is_retweet                                       text_retweet  \\\n",
       "0  40000        True  RT @jdesmondharris: You don't have to write \"i...   \n",
       "1  40002        True  RT @jdesmondharris: You don't have to write \"i...   \n",
       "2  40003        True  RT @TheUSASingers: Here it is folks!\\n\\nWe are...   \n",
       "\n",
       "      screen_name  \n",
       "0  SamanthaCorbin  \n",
       "1      dinosaur_m  \n",
       "2        CloeNana  "
      ]
     },
     "execution_count": 33,
     "metadata": {},
     "output_type": "execute_result"
    }
   ],
   "source": [
    "# Read input file and get the retweeted records in dataframe retweet_df\n",
    "read_df = pd.read_csv('humans.csv', sep=';', index_col='id', usecols = ['id', 'screen_name', 'is_retweet', 'text_retweet'])\n",
    "retweet_df = read_df[read_df.apply(lambda x: (x['is_retweet']==True) and (isNaN(x['text_retweet'])==False), axis=1)]\n",
    "retweet_df = retweet_df.reset_index()\n",
    "retweet_df.head(3)"
   ]
  },
  {
   "cell_type": "code",
   "execution_count": 37,
   "metadata": {},
   "outputs": [
    {
     "data": {
      "text/html": [
       "<div>\n",
       "<style scoped>\n",
       "    .dataframe tbody tr th:only-of-type {\n",
       "        vertical-align: middle;\n",
       "    }\n",
       "\n",
       "    .dataframe tbody tr th {\n",
       "        vertical-align: top;\n",
       "    }\n",
       "\n",
       "    .dataframe thead th {\n",
       "        text-align: right;\n",
       "    }\n",
       "</style>\n",
       "<table border=\"1\" class=\"dataframe\">\n",
       "  <thead>\n",
       "    <tr style=\"text-align: right;\">\n",
       "      <th></th>\n",
       "      <th>level_0</th>\n",
       "      <th>index</th>\n",
       "      <th>id</th>\n",
       "      <th>is_retweet</th>\n",
       "      <th>text_retweet</th>\n",
       "      <th>screen_name</th>\n",
       "      <th>retweet_username</th>\n",
       "    </tr>\n",
       "  </thead>\n",
       "  <tbody>\n",
       "    <tr>\n",
       "      <th>0</th>\n",
       "      <td>0</td>\n",
       "      <td>0</td>\n",
       "      <td>40000</td>\n",
       "      <td>True</td>\n",
       "      <td>RT @jdesmondharris: You don't have to write \"i...</td>\n",
       "      <td>SamanthaCorbin</td>\n",
       "      <td>jdesmondharris</td>\n",
       "    </tr>\n",
       "    <tr>\n",
       "      <th>1</th>\n",
       "      <td>1</td>\n",
       "      <td>1</td>\n",
       "      <td>40002</td>\n",
       "      <td>True</td>\n",
       "      <td>RT @jdesmondharris: You don't have to write \"i...</td>\n",
       "      <td>dinosaur_m</td>\n",
       "      <td>jdesmondharris</td>\n",
       "    </tr>\n",
       "    <tr>\n",
       "      <th>2</th>\n",
       "      <td>2</td>\n",
       "      <td>2</td>\n",
       "      <td>40003</td>\n",
       "      <td>True</td>\n",
       "      <td>RT @TheUSASingers: Here it is folks!\\n\\nWe are...</td>\n",
       "      <td>CloeNana</td>\n",
       "      <td>TheUSASingers</td>\n",
       "    </tr>\n",
       "  </tbody>\n",
       "</table>\n",
       "</div>"
      ],
      "text/plain": [
       "   level_0  index     id  is_retweet  \\\n",
       "0        0      0  40000        True   \n",
       "1        1      1  40002        True   \n",
       "2        2      2  40003        True   \n",
       "\n",
       "                                        text_retweet     screen_name  \\\n",
       "0  RT @jdesmondharris: You don't have to write \"i...  SamanthaCorbin   \n",
       "1  RT @jdesmondharris: You don't have to write \"i...      dinosaur_m   \n",
       "2  RT @TheUSASingers: Here it is folks!\\n\\nWe are...        CloeNana   \n",
       "\n",
       "  retweet_username  \n",
       "0   jdesmondharris  \n",
       "1   jdesmondharris  \n",
       "2    TheUSASingers  "
      ]
     },
     "execution_count": 37,
     "metadata": {},
     "output_type": "execute_result"
    }
   ],
   "source": [
    "# Append the screen_name of the original post that has been retweeted\n",
    "def get_retweet_user(text_retweet):\n",
    "    try:\n",
    "        return re.match(r\"RT @(\\S+):.*\", text_retweet).group(1)\n",
    "    except:\n",
    "        return 'False'\n",
    "    \n",
    "retweet_df['retweet_username'] = retweet_df.apply(lambda x: get_retweet_user(x['text_retweet']), axis=1)\n",
    "retweet_df = retweet_df.reset_index()\n",
    "\n",
    "# Print the final input dataframe\n",
    "retweet_df.head(3)"
   ]
  },
  {
   "cell_type": "markdown",
   "metadata": {},
   "source": [
    "## Create Retweet graphs and store it as text file"
   ]
  },
  {
   "cell_type": "markdown",
   "metadata": {},
   "source": [
    "We construct the weighted undirected graph to form the retweet network by defining the parent-child relationships between the users such that everytime an user (given by field screen_name) retweets another user's post (given by the field 'retweet_username') we draw an edge between them and the number of times they have communicated or retweeted each other becomes the edge weight. In order to reduce clutter in the network we however filter out nodes or users who have communicated less than 5 times. This parameter can be configured as per the analyst's need.  "
   ]
  },
  {
   "cell_type": "code",
   "execution_count": 38,
   "metadata": {},
   "outputs": [],
   "source": [
    "def retweetgraph(data, filename, num = 5):\n",
    "    \n",
    "    #append all users to a list\n",
    "    retweets = []\n",
    "    for line in data:\n",
    "        retweets.append([line[0], line[1]])\n",
    "        \n",
    "    # Define nodes\n",
    "    nodes = dict()\n",
    "    for line in retweets:\n",
    "        if line[0] not in nodes:\n",
    "            nodes[line[0]] = 0\n",
    "        nodes[line[0]] += 1\n",
    "        if line[1] not in nodes:\n",
    "            nodes[line[1]] = 0\n",
    "        nodes[line[1]] += 1\n",
    "\n",
    "    # Filter nodes with more than 'num' weighted degree    \n",
    "    for i in list(nodes):\n",
    "        if nodes[i] <= num:\n",
    "            del nodes[i]\n",
    "            \n",
    "    # Define undirected weighted edges without self loop\n",
    "    temp = dict()\n",
    "    for retweet in retweets:\n",
    "        if retweet[0] == retweet[1]:\n",
    "            continue\n",
    "        if retweet[0] in nodes and retweet[1] in nodes:\n",
    "            if (retweet[0], retweet[1]) in temp:\n",
    "                temp[(retweet[0], retweet[1])] += 1\n",
    "            elif (retweet[1], retweet[0]) in temp:\n",
    "                temp[(retweet[1], retweet[0])] += 1\n",
    "            else:\n",
    "                temp[(retweet[0], retweet[1])] = 1\n",
    "    edges = list(temp.items())\n",
    "    \n",
    "    # Write the graph to a file\n",
    "    f = open(filename, 'w')\n",
    "    for edge in edges:\n",
    "        f.write('{}\\t{}\\t{}\\n'.format(edge[0][0], edge[0][1], edge[1]))\n",
    "    f.close()"
   ]
  },
  {
   "cell_type": "code",
   "execution_count": 40,
   "metadata": {},
   "outputs": [],
   "source": [
    "# create the graph and save it as retweetgraph.txt\n",
    "retweetgraph(retweet_df[retweet_df['retweet_username'] != 'False'][['screen_name', 'retweet_username']].values.tolist(), 'retweetgraph.txt', 2)"
   ]
  },
  {
   "cell_type": "markdown",
   "metadata": {},
   "source": [
    "## Find communities and their influencers using GraphFrames Pyspark"
   ]
  },
  {
   "cell_type": "markdown",
   "metadata": {},
   "source": [
    "GraphFrames is a package for Apache Spark that provides DataFrame-based graphs. We use Label Propagation Algorithm to cluster nodes to form communities and PageRank algorithm to find the main influencers of these communities. Using Pyspark we have written retweet_graph_lpa.py to implement these functionalities."
   ]
  },
  {
   "cell_type": "markdown",
   "metadata": {},
   "source": [
    "**Label Propagation Algorithm** is a semi-supervised machine learning algorithm well known for finding community structures within complex networks.At the start of the algorithm, a (generally small) subset of the data points have labels (or classifications). These labels are propagated to the unlabeled points throughout the course of the algorithm. LPA has advantages in its running time and amount of a priori information needed about the network structure (no parameter is required to be known beforehand), though it also has a disadvantage that it produces no unique solution, but an aggregate of many solutions."
   ]
  },
  {
   "cell_type": "markdown",
   "metadata": {},
   "source": [
    "**PageRank Algorithm** is used to calculate the centrality measure of nodes in each of the clusters defined by Label Propagation Algorithm. This allows us to get the nodes with high centrality. Intutively having high PageRank implies that the node or user is the main influencer in his community. Though PageRank gives better results for more number of iterations, we have executed it for 5 iterations to reduce execution time."
   ]
  },
  {
   "cell_type": "markdown",
   "metadata": {},
   "source": [
    "#### Note: Put graphframe jar file matching the pyspark version in current directory\n",
    "spark-sumbit --packages graphframe:graphframes:<graphframe version> retweet_graph_lpa.py"
   ]
  },
  {
   "cell_type": "code",
   "execution_count": null,
   "metadata": {},
   "outputs": [],
   "source": [
    "!spark-submit --packages graphframes:graphframes:0.7.0-spark2.4-s_2.11 retweet_graph_lpa.py"
   ]
  },
  {
   "cell_type": "code",
   "execution_count": 42,
   "metadata": {},
   "outputs": [
    {
     "name": "stdout",
     "output_type": "stream",
     "text": [
      "id=user, label=community number, pagerank=pagerank\n",
      "+-----+-----+---------------+-------------------+\n",
      "|   id|label|           name|           pagerank|\n",
      "+-----+-----+---------------+-------------------+\n",
      "| 2024|81315|NareshC26858420| 0.3507565086074427|\n",
      "| 2100|81292|  MyGrindelwald|0.35756531142158715|\n",
      "| 2605|81315|  Mynation_Abhi| 0.3507565086074427|\n",
      "| 3817|81315| suhas_sawant85| 0.3507565086074427|\n",
      "| 6360| 3396|      firstpost| 0.4665061564478987|\n",
      "| 8501|81255|    MichaelYRMW| 0.3507565086074427|\n",
      "|11015| 3312| deekshabhushan| 0.3507565086074427|\n",
      "|14021|61377| CapitolRomance| 0.3507565086074427|\n",
      "|16553|82104|       oni_keji| 0.3507565086074427|\n",
      "|17849|83111|   ranjiths1998| 0.3507565086074427|\n",
      "|53329|84548|    sapphicgeek| 0.3507565086074427|\n",
      "|69921|84504|    monachollet| 0.3507565086074427|\n",
      "|70718|27257|DeadlineDominic|  35.07565086074427|\n",
      "|81290|  737|     danaksegal| 0.5822558042883549|\n",
      "|81292|  138|     maelynn777|  4.106361273264061|\n",
      "|81494| 1626|   cohen_HR_Law| 0.6980054521288109|\n",
      "|83135|24093|         ale140| 0.6980054521288109|\n",
      "|83957|27004|     ValuedConf| 1.0417819062149654|\n",
      "|  793| 5343|    sunny_in_MN| 0.3507565086074427|\n",
      "|  832|81341|      mmmbluey2| 0.3507565086074427|\n",
      "+-----+-----+---------------+-------------------+\n",
      "only showing top 20 rows\n",
      "\n"
     ]
    }
   ],
   "source": [
    "#Show first few rows of communities and their pageranks\n",
    "sdf = spark.read.parquet('retweet_lpa.parquet')\n",
    "print('id=user, label=community number, pagerank=pagerank')\n",
    "sdf.show()"
   ]
  },
  {
   "cell_type": "markdown",
   "metadata": {},
   "source": [
    "## EDA with the Community Clusters"
   ]
  },
  {
   "cell_type": "markdown",
   "metadata": {},
   "source": [
    "### Top 10 largest communities"
   ]
  },
  {
   "cell_type": "markdown",
   "metadata": {},
   "source": [
    "### Main Influencers in these communities"
   ]
  },
  {
   "cell_type": "markdown",
   "metadata": {},
   "source": [
    "## Visualize communities and their influencers by Gephi"
   ]
  },
  {
   "cell_type": "code",
   "execution_count": null,
   "metadata": {},
   "outputs": [],
   "source": []
  }
 ],
 "metadata": {
  "kernelspec": {
   "display_name": "Python 3",
   "language": "python",
   "name": "python3"
  },
  "language_info": {
   "codemirror_mode": {
    "name": "ipython",
    "version": 3
   },
   "file_extension": ".py",
   "mimetype": "text/x-python",
   "name": "python",
   "nbconvert_exporter": "python",
   "pygments_lexer": "ipython3",
   "version": "3.5.0b4"
  }
 },
 "nbformat": 4,
 "nbformat_minor": 2
}
