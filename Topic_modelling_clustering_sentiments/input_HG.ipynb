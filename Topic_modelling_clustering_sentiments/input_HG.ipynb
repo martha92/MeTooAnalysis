{
 "cells": [
  {
   "cell_type": "markdown",
   "metadata": {},
   "source": [
    "# Topic Sentiment Analysis in Twitter: A Graph-based Hashtag Sentiment Classification Approach"
   ]
  },
  {
   "cell_type": "markdown",
   "metadata": {},
   "source": [
    "## Objective: \n",
    "The objective is to build a sentiment classifier using a combination of a lexicon-based classifier, **TextBlob**, and a **HashTag sentiment classifier** and combine the sentiment score of the two to give an accurate sentiment classification to each tweet.\n",
    "\n",
    "* **TextBlob:** is a python library to provide the sentiment/polarity score to each input string/tweet. \n",
    "* **HashTag Sentiment Classifier:** Is based on the belief propagation approach mentioned in the paper.\n",
    "> __[Topic Sentiment Analysis in Twitter: A Graph-based Hashtag Sentiment Classification Approach](http://citeseerx.ist.psu.edu/viewdoc/download?doi=10.1.1.462.3827&rep=rep1&type=pdf)__\n",
    "\n",
    "The idea is to assign a sentiment value to each hashtag based on the sentiment value of the neighbouring/co-occurring hashtags. i.e. a hashtag used frequently with other hashtags with negative sentiment value will most likely to be having a negative sentiment value itself.\n",
    "\n",
    "The task of assigning sentiment label ['neg', 'neutral', 'pos'] to each hashtag is broken in two scripts.\n",
    "\n",
    "1. **input_HG:** extract the sentiment probability of the hashtag based on the sentiments of the tweets in which hashtag occurs and extract the co-occurrence ratio between a pair of hashtags.\n",
    "2. **LBP:** run the loopy belief propagation to assign a sentiment value to each hashtag based on its neighbouring/co-occurring hashtags.\n",
    "\n",
    "Finaly a sentiment classifier which is a combination of TextBlob output and HashTag sentiment classifier is used in *similarity_graph.get_hashtag_polarity()* to output sentiment for each tweet.\n",
    "\n",
    "**Note:** only most popular hashtags ~1000 are considered to keep running time realistic."
   ]
  },
  {
   "cell_type": "markdown",
   "metadata": {},
   "source": [
    "## Tools/ Technology Used"
   ]
  },
  {
   "cell_type": "markdown",
   "metadata": {},
   "source": [
    "* **Pandas:** for data processing\n",
    "* **RE:** find matching patterns in the string \n",
    "* **TextBlob:** library to extract the sentiments for the tweets\n",
    "* **itertools:** to generate all possible pair combination from a list of values"
   ]
  },
  {
   "cell_type": "markdown",
   "metadata": {},
   "source": [
    "## Output \n",
    "The output for the script is: \n",
    "* List of most popular/frequently used hashtags.\n",
    "* Sentiment probablity for each hashtag in the list based on the polarity value of the tweets in which the hashtag occured.\n",
    "* Co-occurance ratio between a pair of hashtags. i.e. \n",
    "\n",
    "\\begin{equation*}\n",
    "\\frac{\\#(H_1,H_2)}{\\#(H_1) + \\#(H_2)}\n",
    "\\end{equation*}\n"
   ]
  },
  {
   "cell_type": "code",
   "execution_count": 20,
   "metadata": {},
   "outputs": [],
   "source": [
    "import re\n",
    "import pandas as pd\n",
    "from textblob import TextBlob\n",
    "import itertools"
   ]
  },
  {
   "cell_type": "code",
   "execution_count": 10,
   "metadata": {},
   "outputs": [],
   "source": [
    "def isNaN(num):\n",
    "    return num != num"
   ]
  },
  {
   "cell_type": "code",
   "execution_count": 11,
   "metadata": {},
   "outputs": [],
   "source": [
    "df = pd.read_csv('humans.csv', sep=';', index_col='id', usecols = ['id', 'source', 'is_retweet', 'hashtags', 'lemma_filter'])"
   ]
  },
  {
   "cell_type": "markdown",
   "metadata": {},
   "source": [
    "### Read and Preprocess Data\n",
    "\n",
    "We filter the records that were not retweeted by other users or doesn't have any content in the processed tweet or doesn't contains any hashtags in the input data. Also, extract all the hashtags in a list in a seperate column."
   ]
  },
  {
   "cell_type": "code",
   "execution_count": 12,
   "metadata": {},
   "outputs": [
    {
     "name": "stderr",
     "output_type": "stream",
     "text": [
      "/home/ipsita_proff/anaconda3/lib/python3.6/site-packages/ipykernel_launcher.py:3: SettingWithCopyWarning: \n",
      "A value is trying to be set on a copy of a slice from a DataFrame.\n",
      "Try using .loc[row_indexer,col_indexer] = value instead\n",
      "\n",
      "See the caveats in the documentation: http://pandas.pydata.org/pandas-docs/stable/indexing.html#indexing-view-versus-copy\n",
      "  This is separate from the ipykernel package so we can avoid doing imports until\n"
     ]
    }
   ],
   "source": [
    "df0 = df[df['is_retweet'] == False].sample(frac=0.1)\n",
    "df0_1 = df0[df0.apply(lambda x: (isNaN(x['lemma_filter'])==False) and (isNaN(x['hashtags'])==False), axis=1)]\n",
    "df0_1['hashtags_list'] = df0_1.apply(lambda x: [i for i in set(re.findall(r\"[\\w']+\", x['hashtags'].lower())) if len(i) > 1], axis=1)\n",
    "df1 = df0_1[df0_1.apply(lambda x: len(x['hashtags_list']) > 0, axis=1)]"
   ]
  },
  {
   "cell_type": "code",
   "execution_count": 13,
   "metadata": {
    "scrolled": true
   },
   "outputs": [
    {
     "data": {
      "text/html": [
       "<div>\n",
       "<style scoped>\n",
       "    .dataframe tbody tr th:only-of-type {\n",
       "        vertical-align: middle;\n",
       "    }\n",
       "\n",
       "    .dataframe tbody tr th {\n",
       "        vertical-align: top;\n",
       "    }\n",
       "\n",
       "    .dataframe thead th {\n",
       "        text-align: right;\n",
       "    }\n",
       "</style>\n",
       "<table border=\"1\" class=\"dataframe\">\n",
       "  <thead>\n",
       "    <tr style=\"text-align: right;\">\n",
       "      <th></th>\n",
       "      <th>source</th>\n",
       "      <th>is_retweet</th>\n",
       "      <th>hashtags</th>\n",
       "      <th>lemma_filter</th>\n",
       "      <th>hashtags_list</th>\n",
       "    </tr>\n",
       "    <tr>\n",
       "      <th>id</th>\n",
       "      <th></th>\n",
       "      <th></th>\n",
       "      <th></th>\n",
       "      <th></th>\n",
       "      <th></th>\n",
       "    </tr>\n",
       "  </thead>\n",
       "  <tbody>\n",
       "    <tr>\n",
       "      <th>183325</th>\n",
       "      <td>instagram</td>\n",
       "      <td>False</td>\n",
       "      <td>#GirlsLeadTheWorld, #BeYourOwnMuse, #FeministA...</td>\n",
       "      <td>yo quiero que pierdas la cabeza por mí . quier...</td>\n",
       "      <td>[weloversize, womensupportingwomen, feministar...</td>\n",
       "    </tr>\n",
       "    <tr>\n",
       "      <th>163851</th>\n",
       "      <td>instagram</td>\n",
       "      <td>False</td>\n",
       "      <td>#selfie, #glasses, #cute, #asmrvideo, #420, #i...</td>\n",
       "      <td>imperfection www.younow.com/behappybeingyou ww...</td>\n",
       "      <td>[tarot, cute, music, maydayparade, poetry, tre...</td>\n",
       "    </tr>\n",
       "    <tr>\n",
       "      <th>336296</th>\n",
       "      <td>instagram</td>\n",
       "      <td>False</td>\n",
       "      <td>#TanushreeDutta, #MeToo, #metoomovement, #incr...</td>\n",
       "      <td>accusation trigger movement india ? depend u ,...</td>\n",
       "      <td>[toxicmasculinity, metoomovement, genderequali...</td>\n",
       "    </tr>\n",
       "    <tr>\n",
       "      <th>254932</th>\n",
       "      <td>instagram</td>\n",
       "      <td>False</td>\n",
       "      <td>#Metoo, #Aidtoo, #GVAPeaceWeek</td>\n",
       "      <td>morning 's event  un peacekeeping : great acco...</td>\n",
       "      <td>[aidtoo, gvapeaceweek, metoo]</td>\n",
       "    </tr>\n",
       "    <tr>\n",
       "      <th>5236</th>\n",
       "      <td>twitter</td>\n",
       "      <td>False</td>\n",
       "      <td>MeToo, jimacosta</td>\n",
       "      <td>silence white house beauty accost rag chauvini...</td>\n",
       "      <td>[jimacosta, metoo]</td>\n",
       "    </tr>\n",
       "  </tbody>\n",
       "</table>\n",
       "</div>"
      ],
      "text/plain": [
       "           source  is_retweet  \\\n",
       "id                              \n",
       "183325  instagram       False   \n",
       "163851  instagram       False   \n",
       "336296  instagram       False   \n",
       "254932  instagram       False   \n",
       "5236      twitter       False   \n",
       "\n",
       "                                                 hashtags  \\\n",
       "id                                                          \n",
       "183325  #GirlsLeadTheWorld, #BeYourOwnMuse, #FeministA...   \n",
       "163851  #selfie, #glasses, #cute, #asmrvideo, #420, #i...   \n",
       "336296  #TanushreeDutta, #MeToo, #metoomovement, #incr...   \n",
       "254932                     #Metoo, #Aidtoo, #GVAPeaceWeek   \n",
       "5236                                     MeToo, jimacosta   \n",
       "\n",
       "                                             lemma_filter  \\\n",
       "id                                                          \n",
       "183325  yo quiero que pierdas la cabeza por mí . quier...   \n",
       "163851  imperfection www.younow.com/behappybeingyou ww...   \n",
       "336296  accusation trigger movement india ? depend u ,...   \n",
       "254932  morning 's event  un peacekeeping : great acco...   \n",
       "5236    silence white house beauty accost rag chauvini...   \n",
       "\n",
       "                                            hashtags_list  \n",
       "id                                                         \n",
       "183325  [weloversize, womensupportingwomen, feministar...  \n",
       "163851  [tarot, cute, music, maydayparade, poetry, tre...  \n",
       "336296  [toxicmasculinity, metoomovement, genderequali...  \n",
       "254932                      [aidtoo, gvapeaceweek, metoo]  \n",
       "5236                                   [jimacosta, metoo]  "
      ]
     },
     "execution_count": 13,
     "metadata": {},
     "output_type": "execute_result"
    }
   ],
   "source": [
    "df1.head(5)"
   ]
  },
  {
   "cell_type": "markdown",
   "metadata": {},
   "source": [
    "### Use TextBlob to extract the sentiment from the tweets.\n",
    "\n",
    "* **sentiment_polarity:** contains the polarity value [-1, 1] predicted by textblob (*a lexicon based sentiment prediction library*) for the tweets.\n",
    "\n",
    "* **sentiment:** convert the polarity value into a categorical value *['neg' (sentiment_polarity < 0), 'neutral' (sentiment_polarity = 0), 'pos' (sentiment_polarity > 0)]*. "
   ]
  },
  {
   "cell_type": "code",
   "execution_count": 14,
   "metadata": {},
   "outputs": [
    {
     "name": "stderr",
     "output_type": "stream",
     "text": [
      "/home/ipsita_proff/anaconda3/lib/python3.6/site-packages/ipykernel_launcher.py:2: SettingWithCopyWarning: \n",
      "A value is trying to be set on a copy of a slice from a DataFrame.\n",
      "Try using .loc[row_indexer,col_indexer] = value instead\n",
      "\n",
      "See the caveats in the documentation: http://pandas.pydata.org/pandas-docs/stable/indexing.html#indexing-view-versus-copy\n",
      "  \n",
      "/home/ipsita_proff/anaconda3/lib/python3.6/site-packages/ipykernel_launcher.py:3: SettingWithCopyWarning: \n",
      "A value is trying to be set on a copy of a slice from a DataFrame.\n",
      "Try using .loc[row_indexer,col_indexer] = value instead\n",
      "\n",
      "See the caveats in the documentation: http://pandas.pydata.org/pandas-docs/stable/indexing.html#indexing-view-versus-copy\n",
      "  This is separate from the ipykernel package so we can avoid doing imports until\n"
     ]
    }
   ],
   "source": [
    "df2 = df1\n",
    "df2['sentiment_polarity'] = df2.apply(lambda x: TextBlob(x['lemma_filter']).sentiment[0], axis=1)\n",
    "df2['sentiment'] = df2.apply(lambda x: 'pos' if x['sentiment_polarity'] > 0 else 'neg' if x['sentiment_polarity'] < 0 else 'neutral', axis=1)"
   ]
  },
  {
   "cell_type": "code",
   "execution_count": 15,
   "metadata": {},
   "outputs": [
    {
     "data": {
      "text/html": [
       "<div>\n",
       "<style scoped>\n",
       "    .dataframe tbody tr th:only-of-type {\n",
       "        vertical-align: middle;\n",
       "    }\n",
       "\n",
       "    .dataframe tbody tr th {\n",
       "        vertical-align: top;\n",
       "    }\n",
       "\n",
       "    .dataframe thead th {\n",
       "        text-align: right;\n",
       "    }\n",
       "</style>\n",
       "<table border=\"1\" class=\"dataframe\">\n",
       "  <thead>\n",
       "    <tr style=\"text-align: right;\">\n",
       "      <th></th>\n",
       "      <th>source</th>\n",
       "      <th>is_retweet</th>\n",
       "      <th>hashtags</th>\n",
       "      <th>lemma_filter</th>\n",
       "      <th>hashtags_list</th>\n",
       "      <th>sentiment_polarity</th>\n",
       "      <th>sentiment</th>\n",
       "    </tr>\n",
       "    <tr>\n",
       "      <th>id</th>\n",
       "      <th></th>\n",
       "      <th></th>\n",
       "      <th></th>\n",
       "      <th></th>\n",
       "      <th></th>\n",
       "      <th></th>\n",
       "      <th></th>\n",
       "    </tr>\n",
       "  </thead>\n",
       "  <tbody>\n",
       "    <tr>\n",
       "      <th>183325</th>\n",
       "      <td>instagram</td>\n",
       "      <td>False</td>\n",
       "      <td>#GirlsLeadTheWorld, #BeYourOwnMuse, #FeministA...</td>\n",
       "      <td>yo quiero que pierdas la cabeza por mí . quier...</td>\n",
       "      <td>[weloversize, womensupportingwomen, feministar...</td>\n",
       "      <td>0.000000</td>\n",
       "      <td>neutral</td>\n",
       "    </tr>\n",
       "    <tr>\n",
       "      <th>163851</th>\n",
       "      <td>instagram</td>\n",
       "      <td>False</td>\n",
       "      <td>#selfie, #glasses, #cute, #asmrvideo, #420, #i...</td>\n",
       "      <td>imperfection www.younow.com/behappybeingyou ww...</td>\n",
       "      <td>[tarot, cute, music, maydayparade, poetry, tre...</td>\n",
       "      <td>0.394444</td>\n",
       "      <td>pos</td>\n",
       "    </tr>\n",
       "    <tr>\n",
       "      <th>336296</th>\n",
       "      <td>instagram</td>\n",
       "      <td>False</td>\n",
       "      <td>#TanushreeDutta, #MeToo, #metoomovement, #incr...</td>\n",
       "      <td>accusation trigger movement india ? depend u ,...</td>\n",
       "      <td>[toxicmasculinity, metoomovement, genderequali...</td>\n",
       "      <td>0.483333</td>\n",
       "      <td>pos</td>\n",
       "    </tr>\n",
       "    <tr>\n",
       "      <th>254932</th>\n",
       "      <td>instagram</td>\n",
       "      <td>False</td>\n",
       "      <td>#Metoo, #Aidtoo, #GVAPeaceWeek</td>\n",
       "      <td>morning 's event  un peacekeeping : great acco...</td>\n",
       "      <td>[aidtoo, gvapeaceweek, metoo]</td>\n",
       "      <td>0.200000</td>\n",
       "      <td>pos</td>\n",
       "    </tr>\n",
       "    <tr>\n",
       "      <th>5236</th>\n",
       "      <td>twitter</td>\n",
       "      <td>False</td>\n",
       "      <td>MeToo, jimacosta</td>\n",
       "      <td>silence white house beauty accost rag chauvini...</td>\n",
       "      <td>[jimacosta, metoo]</td>\n",
       "      <td>0.000000</td>\n",
       "      <td>neutral</td>\n",
       "    </tr>\n",
       "  </tbody>\n",
       "</table>\n",
       "</div>"
      ],
      "text/plain": [
       "           source  is_retweet  \\\n",
       "id                              \n",
       "183325  instagram       False   \n",
       "163851  instagram       False   \n",
       "336296  instagram       False   \n",
       "254932  instagram       False   \n",
       "5236      twitter       False   \n",
       "\n",
       "                                                 hashtags  \\\n",
       "id                                                          \n",
       "183325  #GirlsLeadTheWorld, #BeYourOwnMuse, #FeministA...   \n",
       "163851  #selfie, #glasses, #cute, #asmrvideo, #420, #i...   \n",
       "336296  #TanushreeDutta, #MeToo, #metoomovement, #incr...   \n",
       "254932                     #Metoo, #Aidtoo, #GVAPeaceWeek   \n",
       "5236                                     MeToo, jimacosta   \n",
       "\n",
       "                                             lemma_filter  \\\n",
       "id                                                          \n",
       "183325  yo quiero que pierdas la cabeza por mí . quier...   \n",
       "163851  imperfection www.younow.com/behappybeingyou ww...   \n",
       "336296  accusation trigger movement india ? depend u ,...   \n",
       "254932  morning 's event  un peacekeeping : great acco...   \n",
       "5236    silence white house beauty accost rag chauvini...   \n",
       "\n",
       "                                            hashtags_list  sentiment_polarity  \\\n",
       "id                                                                              \n",
       "183325  [weloversize, womensupportingwomen, feministar...            0.000000   \n",
       "163851  [tarot, cute, music, maydayparade, poetry, tre...            0.394444   \n",
       "336296  [toxicmasculinity, metoomovement, genderequali...            0.483333   \n",
       "254932                      [aidtoo, gvapeaceweek, metoo]            0.200000   \n",
       "5236                                   [jimacosta, metoo]            0.000000   \n",
       "\n",
       "       sentiment  \n",
       "id                \n",
       "183325   neutral  \n",
       "163851       pos  \n",
       "336296       pos  \n",
       "254932       pos  \n",
       "5236     neutral  "
      ]
     },
     "execution_count": 15,
     "metadata": {},
     "output_type": "execute_result"
    }
   ],
   "source": [
    "df2.head(5)"
   ]
  },
  {
   "cell_type": "markdown",
   "metadata": {},
   "source": [
    "### Extract the Sentiment Probablity *[hashtag_dic]* and HashTag Set *[hashtags_set]*\n",
    "**NUM:** Only hashtags occuring atleast this many number of times are considered for hashtag sentiment analysis *(to limit computation time)*.\n",
    "<br>**hashtag_dic:** dictionary of hashtag sentiment probablity score.\n",
    "<br>**hashtag_set:** set of hashtags satisfying NUM condition"
   ]
  },
  {
   "cell_type": "code",
   "execution_count": 24,
   "metadata": {},
   "outputs": [
    {
     "name": "stderr",
     "output_type": "stream",
     "text": [
      "/home/ipsita_proff/anaconda3/lib/python3.6/site-packages/ipykernel_launcher.py:13: SettingWithCopyWarning: \n",
      "A value is trying to be set on a copy of a slice from a DataFrame.\n",
      "Try using .loc[row_indexer,col_indexer] = value instead\n",
      "\n",
      "See the caveats in the documentation: http://pandas.pydata.org/pandas-docs/stable/indexing.html#indexing-view-versus-copy\n",
      "  del sys.path[0]\n"
     ]
    },
    {
     "name": "stdout",
     "output_type": "stream",
     "text": [
      "Number of hashtags considered = 1054\n"
     ]
    }
   ],
   "source": [
    "NUM = 50  #UM of most popular hashtags\n",
    "# # Only selecting positive and negative sentiment\n",
    "# # df3 = df2[df2['sentiment'] != 'neutral'].set_index(['sentiment'])['hashtags_list'].apply(pd.Series).stack()\n",
    "\n",
    "# Select all three sentiments\n",
    "df3 = df2.set_index(['sentiment'])['hashtags_list'].apply(pd.Series).stack()\n",
    "df3 = df3.reset_index()\n",
    "df3.columns = ['sentiment', 'sample_num','hashtag']\n",
    "df3_1 = df3.groupby(['hashtag', 'sentiment']).size().reset_index(name='counts')\n",
    "df3_2 = df3.groupby(['hashtag']).size().reset_index(name='counts')\n",
    "df3_merged = pd.merge(df3_1, df3_2, on='hashtag', how='inner')\n",
    "result = df3_merged[df3_merged['counts_y'] > NUM] \n",
    "result['probe'] = result.apply(lambda x: float(x['counts_x'])/x['counts_y'], axis=1)\n",
    "result = result[result.apply(lambda x: 'metoo' not in x['hashtag'], axis=1)]\n",
    "# result\n",
    "\n",
    "##\n",
    "hashtag_dic = {}\n",
    "for index, row in result.iterrows():\n",
    "    hashtag_dic[row['sentiment'], row['hashtag']] = row['probe']\n",
    "\n",
    "# 2019womensmarch\n",
    "\n",
    "##\n",
    "hashtags_set = set(result['hashtag'].values)\n",
    "print('Number of hashtags considered = {}'.format(len(hashtags_set)))"
   ]
  },
  {
   "cell_type": "markdown",
   "metadata": {},
   "source": [
    "### Extract co-occurance ratio *[SI]*"
   ]
  },
  {
   "cell_type": "code",
   "execution_count": 26,
   "metadata": {},
   "outputs": [
    {
     "name": "stderr",
     "output_type": "stream",
     "text": [
      "/home/ipsita_proff/anaconda3/lib/python3.6/site-packages/ipykernel_launcher.py:1: SettingWithCopyWarning: \n",
      "A value is trying to be set on a copy of a slice from a DataFrame.\n",
      "Try using .loc[row_indexer,col_indexer] = value instead\n",
      "\n",
      "See the caveats in the documentation: http://pandas.pydata.org/pandas-docs/stable/indexing.html#indexing-view-versus-copy\n",
      "  \"\"\"Entry point for launching an IPython kernel.\n"
     ]
    }
   ],
   "source": [
    "df1['idx'] = df1.index\n",
    "tdf = df1.set_index(['idx'])['hashtags_list'].apply(pd.Series).stack()\n",
    "tdf = tdf.reset_index()\n",
    "tdf.columns = ['idx', 'sample_num','hashtag']\n",
    "ht_dic = {}\n",
    "for index, row in tdf.iterrows():\n",
    "    if row['hashtag'] in ht_dic:\n",
    "        ht_dic[row['hashtag']].add(row['idx'])\n",
    "    else:\n",
    "        ht_dic[row['hashtag']] = set([row['idx']])\n",
    "\n",
    "\n",
    "SI = {}\n",
    "for (i, j) in itertools.combinations(list(hashtags_set), 2):\n",
    "    tmp = 0\n",
    "    if i in ht_dic:\n",
    "        i_cnt = len(ht_dic[i])\n",
    "        tmp += 1\n",
    "    if j in ht_dic:\n",
    "        j_cnt = len(ht_dic[j])\n",
    "        tmp += 1\n",
    "    if tmp == 2:\n",
    "        i_j_cnt = len(ht_dic[i].intersection(ht_dic[j]))\n",
    "    if i_j_cnt > 0:\n",
    "        SI[i, j] = float(i_j_cnt)/(i_cnt + j_cnt)"
   ]
  },
  {
   "cell_type": "code",
   "execution_count": 27,
   "metadata": {},
   "outputs": [],
   "source": [
    "import pickle\n",
    "with open('hashtag.pickle', 'wb') as handle:\n",
    "    pickle.dump([list(hashtags_set), hashtag_dic, SI], handle, protocol=pickle.HIGHEST_PROTOCOL)"
   ]
  },
  {
   "cell_type": "code",
   "execution_count": null,
   "metadata": {},
   "outputs": [],
   "source": []
  }
 ],
 "metadata": {
  "kernelspec": {
   "display_name": "Python 3",
   "language": "python",
   "name": "python3"
  },
  "language_info": {
   "codemirror_mode": {
    "name": "ipython",
    "version": 3
   },
   "file_extension": ".py",
   "mimetype": "text/x-python",
   "name": "python",
   "nbconvert_exporter": "python",
   "pygments_lexer": "ipython3",
   "version": "3.6.8"
  }
 },
 "nbformat": 4,
 "nbformat_minor": 2
}
